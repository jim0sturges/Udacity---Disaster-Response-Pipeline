{
 "cells": [
  {
   "cell_type": "markdown",
   "metadata": {},
   "source": [
    "# ML Pipeline Preparation\n",
    "Follow the instructions below to help you create your ML pipeline.\n",
    "### 1. Import libraries and load data from database.\n",
    "- Import Python libraries\n",
    "- Load dataset from database with [`read_sql_table`](https://pandas.pydata.org/pandas-docs/stable/generated/pandas.read_sql_table.html)\n",
    "- Define feature and target variables X and Y"
   ]
  },
  {
   "cell_type": "code",
   "execution_count": 1,
   "metadata": {},
   "outputs": [
    {
     "name": "stderr",
     "output_type": "stream",
     "text": [
      "[nltk_data] Downloading package stopwords to\n",
      "[nltk_data]     C:\\Users\\Jim.000\\AppData\\Roaming\\nltk_data...\n",
      "[nltk_data]   Package stopwords is already up-to-date!\n",
      "[nltk_data] Downloading package wordnet to\n",
      "[nltk_data]     C:\\Users\\Jim.000\\AppData\\Roaming\\nltk_data...\n",
      "[nltk_data]   Package wordnet is already up-to-date!\n",
      "[nltk_data] Downloading package punkt to\n",
      "[nltk_data]     C:\\Users\\Jim.000\\AppData\\Roaming\\nltk_data...\n",
      "[nltk_data]   Package punkt is already up-to-date!\n"
     ]
    }
   ],
   "source": [
    "# import libraries\n",
    "import pandas as pd\n",
    "import numpy as np\n",
    "from IPython.display import display\n",
    "import string                          #library of string constants\n",
    "import re\n",
    "from sqlalchemy import create_engine\n",
    "import nltk                            # natural language tool kit\n",
    "nltk.download('stopwords')\n",
    "nltk.download('wordnet')\n",
    "nltk.download('punkt')\n",
    "import pickle\n",
    "import os\n",
    "os.path.abspath(os.getcwd())\n",
    "os.chdir('C:\\\\Users\\\\Jim.000\\\\Documents\\\\Udacity Data Scientist Class\\\\Pipeline\\\\sturges_disaster_response_pipeline_project/')"
   ]
  },
  {
   "cell_type": "code",
   "execution_count": 3,
   "metadata": {},
   "outputs": [],
   "source": [
    "# load data from database\n",
    "engine = create_engine('sqlite:///data/DisasterResponse.db')\n",
    "df = pd.read_sql_table('messages', engine)\n",
    "X = df['message']\n",
    "Y = df.drop(['message', 'genre', 'id', 'original'], axis=1)\n",
    "cols=list(Y.columns)"
   ]
  },
  {
   "cell_type": "markdown",
   "metadata": {},
   "source": [
    "### 2. Write a tokenization function to process your text data"
   ]
  },
  {
   "cell_type": "code",
   "execution_count": 4,
   "metadata": {},
   "outputs": [],
   "source": [
    "def tokenize(text):\n",
    "    \"\"\"\n",
    "    Description: This function reads a text string\n",
    "                    removes punctuation\n",
    "                    converts to lower case\n",
    "                    strips out white space\n",
    "                    tokenizes the text into a word list\n",
    "                    Stems the word list\n",
    "                    removes stop words\n",
    "\n",
    "    Arguments: Initial test string\n",
    "    Returns: clean list of word tokens\n",
    "    \"\"\"\n",
    "    stop_words = nltk.corpus.stopwords.words(\"english\")\n",
    "    # Normalize text\n",
    "    text = re.sub(r\"[^a-zA-Z0-9]\", \" \", text.lower().strip())\n",
    "    #tokenize\n",
    "    words = nltk.word_tokenize (text)\n",
    "    #stem\n",
    "    #A processing interface for removing morphological affixes from words. This process is known as stemming.\n",
    "    # (https://www.nltk.org/api/nltk.stem.html)\n",
    "    clean_tokens = [nltk.PorterStemmer().stem(w) for w in words if w not in stop_words]\n",
    "    return clean_tokens"
   ]
  },
  {
   "cell_type": "markdown",
   "metadata": {},
   "source": [
    "### 3. Build a machine learning pipeline\n",
    "This machine pipeline should take in the `message` column as input and output classification results on the other 36 categories in the dataset. You may find the [MultiOutputClassifier](http://scikit-learn.org/stable/modules/generated/sklearn.multioutput.MultiOutputClassifier.html) helpful for predicting multiple target variables."
   ]
  },
  {
   "cell_type": "code",
   "execution_count": 5,
   "metadata": {},
   "outputs": [],
   "source": [
    "from sklearn.pipeline import Pipeline\n",
    "from sklearn.feature_extraction.text import TfidfTransformer,CountVectorizer\n",
    "from sklearn.ensemble import RandomForestClassifier\n",
    "from sklearn.multioutput import MultiOutputClassifier\n",
    "forest_clf = RandomForestClassifier(n_estimators=10)\n",
    "pipeline = Pipeline([\n",
    "    ('vect', CountVectorizer(tokenizer = tokenize)),\n",
    "    ('tfidf', TfidfTransformer()),\n",
    "    ('clf', MultiOutputClassifier(forest_clf))\n",
    "])\n"
   ]
  },
  {
   "cell_type": "markdown",
   "metadata": {},
   "source": [
    "### 4. Train pipeline\n",
    "- Split data into train and test sets\n",
    "- Train pipeline"
   ]
  },
  {
   "cell_type": "code",
   "execution_count": 6,
   "metadata": {
    "scrolled": true
   },
   "outputs": [],
   "source": [
    "from sklearn.model_selection import train_test_split\n",
    "X_train, X_test, Y_train, Y_test = train_test_split(X, Y, test_size=.33, random_state = 42)\n",
    "\n",
    "pipeline.fit(X_train.values, Y_train.values)\n",
    "y_pred = pipeline.predict(X_test)"
   ]
  },
  {
   "cell_type": "markdown",
   "metadata": {},
   "source": [
    "### 5. Test your model\n",
    "Report the f1 score, precision and recall for each output category of the dataset. You can do this by iterating through the columns and calling sklearn's `classification_report` on each."
   ]
  },
  {
   "cell_type": "code",
   "execution_count": 7,
   "metadata": {
    "scrolled": true
   },
   "outputs": [
    {
     "name": "stdout",
     "output_type": "stream",
     "text": [
      "                         Score\n",
      "Precision (averaged)  0.933867\n",
      "Recall (averaged)     0.944300\n",
      "F_score (averaged)    0.932141\n",
      "                         f_score precision    recall\n",
      "Category                                            \n",
      "related                  0.78657  0.784583  0.798544\n",
      "request                 0.871651  0.874966  0.883957\n",
      "offer                   0.993417  0.991235  0.995608\n",
      "aid_related             0.744015  0.747884  0.749191\n",
      "medical_help            0.891011  0.894612   0.92025\n",
      "medical_products        0.933649  0.942193  0.951687\n",
      "search_and_rescue       0.962489  0.966504  0.974226\n",
      "security                0.972289  0.963354  0.981392\n",
      "military                0.959859   0.95953  0.969834\n",
      "child_alone                    1         1         1\n",
      "water                    0.94281  0.946423  0.952381\n",
      "food                    0.928717  0.929751  0.934697\n",
      "shelter                 0.918279  0.923656  0.931577\n",
      "clothing                0.984183  0.985899  0.987748\n",
      "money                   0.969361  0.971225  0.978387\n",
      "missing_people          0.982006  0.976104   0.98798\n",
      "refugees                0.953017  0.956171  0.966828\n",
      "death                   0.938984  0.948037  0.955964\n",
      "other_aid               0.819055  0.822717  0.868007\n",
      "infrastructure_related  0.903915  0.903867  0.934235\n",
      "transport               0.935751  0.945413  0.954693\n",
      "buildings               0.932612  0.946119  0.952034\n",
      "electricity             0.970508  0.971273  0.978964\n",
      "tools                   0.990821  0.987786  0.993874\n",
      "hospitals               0.985288  0.980448  0.990176\n",
      "shops                   0.994109  0.992156   0.99607\n",
      "aid_centers             0.980107  0.973593  0.986708\n",
      "other_infrastructure    0.934328  0.935659  0.955733\n",
      "weather_related         0.852986  0.857052  0.859801\n",
      "floods                   0.93277  0.939204  0.943597\n",
      "storm                   0.926815  0.927183  0.934466\n",
      "fire                    0.984649  0.984617  0.989598\n",
      "earthquake              0.962962  0.963002  0.964632\n",
      "cold                    0.972619  0.976738   0.98012\n",
      "other_weather           0.924429  0.918971  0.946833\n",
      "direct_report           0.821039  0.831284  0.845007\n"
     ]
    },
    {
     "name": "stderr",
     "output_type": "stream",
     "text": [
      "C:\\Users\\Jim.000\\anaconda3\\lib\\site-packages\\sklearn\\metrics\\_classification.py:1272: UndefinedMetricWarning: Precision and F-score are ill-defined and being set to 0.0 in labels with no predicted samples. Use `zero_division` parameter to control this behavior.\n",
      "  _warn_prf(average, modifier, msg_start, len(result))\n"
     ]
    }
   ],
   "source": [
    "def report_results(y_test, y_pred):\n",
    "    from sklearn.metrics import accuracy_score, precision_score, recall_score, f1_score, make_scorer\n",
    "    from sklearn.metrics import precision_recall_fscore_support\n",
    "    \n",
    "    \"\"\"\n",
    "    Description: This function reads in the Y test and the Y predicted values\n",
    "                    it used the sklearn precision_recall_fscore_support function\n",
    "                    to compute the fscore, precision and recall values for each catigory\n",
    "                    it places them in a dataframe for nice formating\n",
    "                    lastly it compute the average of these score to provide and view\n",
    "    Arguments: the y test and y predicted values\n",
    "    Returns: a summary report\n",
    "    \"\"\"\n",
    "    report = pd.DataFrame(columns=['Category', 'f_score', 'precision', 'recall'])\n",
    "    for indx, cat in enumerate(y_test.columns):\n",
    "        idx=indx+1\n",
    "        precision, recall, f_score, support = precision_recall_fscore_support(y_test[cat], y_pred[:,indx], average='weighted')\n",
    "        report.at[idx,'Category']=cat\n",
    "        report.at[idx,'f_score']=f_score\n",
    "        report.at[idx,'precision']=precision\n",
    "        report.at[idx,'recall']=recall\n",
    "\n",
    "    rd={}\n",
    "    rd['Precision (averaged)']=report['precision'].mean()\n",
    "    rd['Recall (averaged)']=report['recall'].mean()\n",
    "    rd['F_score (averaged)']=report['f_score'].mean()\n",
    "    print(pd.DataFrame.from_dict(rd,orient='index').rename(columns={0:\"Score\"}))\n",
    "    report.set_index('Category', inplace=True)\n",
    "    return report\n",
    "\n",
    "print(report_results(Y_test, y_pred))\n",
    "\n",
    "\n",
    "#from sklearn.metrics import classification_report\n",
    "#for i, cat in enumerate(Y_test):\n",
    "    #print(cat)\n",
    "    #print(classification_report(Y_test[cat], y_pred[:, i]))\n",
    "  \n"
   ]
  },
  {
   "cell_type": "markdown",
   "metadata": {},
   "source": [
    "### 6. Improve your model\n",
    "Use grid search to find better parameters. "
   ]
  },
  {
   "cell_type": "code",
   "execution_count": 10,
   "metadata": {
    "scrolled": true
   },
   "outputs": [
    {
     "name": "stdout",
     "output_type": "stream",
     "text": [
      "Fitting 5 folds for each of 4 candidates, totalling 20 fits\n"
     ]
    },
    {
     "name": "stderr",
     "output_type": "stream",
     "text": [
      "[Parallel(n_jobs=1)]: Using backend SequentialBackend with 1 concurrent workers.\n",
      "[Parallel(n_jobs=1)]: Done  20 out of  20 | elapsed: 39.7min finished\n"
     ]
    }
   ],
   "source": [
    "def improve_model(pipeline,X_train,Y_train):\n",
    "    \"\"\"\n",
    "    Description: This function reads in a previously built pipeline from the sklearn library\n",
    "    (https://scikit-learn.org/stable/modules/generated/sklearn.pipeline.Pipeline.html)\n",
    "    then a gridsearch (https://scikit-learn.org/stable/modules/generated/sklearn.model_selection.GridSearchCV.html)\n",
    "    using diferent parameter (currently hardcoded in this model but they could be passed in)\n",
    "    \n",
    "    Inputs:\n",
    "    pipeline: predefined using sklearn\n",
    "    X: iterable Training data\n",
    "    y: iterable Training data\n",
    "\n",
    "    Arguments: the y test and y predicted values\n",
    "    Returns: fitted, tunned model\n",
    "    \"\"\"\n",
    "   \n",
    "    from sklearn.model_selection import GridSearchCV\n",
    "    parameters = {'vect__min_df': [5],\n",
    "                  'tfidf__use_idf':[True, False],\n",
    "                  'clf__estimator__n_estimators':[25], \n",
    "                  'clf__estimator__min_samples_split':[2, 5]}\n",
    "\n",
    "    #scorer = make_scorer(performance_metric)\n",
    "    cv = GridSearchCV(pipeline, param_grid = parameters,  verbose = 1)\n",
    "\n",
    "\n",
    "    # Find best parameters\n",
    "    np.random.seed(81)\n",
    "    tuned_model = cv.fit(X_train, Y_train)\n",
    "    tuned_model=tuned_model.best_estimator_\n",
    "    return tuned_model\n",
    "\n",
    "tuned_model=improve_model(pipeline,X_train,Y_train)"
   ]
  },
  {
   "cell_type": "markdown",
   "metadata": {},
   "source": [
    "### 7. Test your model\n",
    "Show the accuracy, precision, and recall of the tuned model.  \n",
    "\n",
    "Since this project focuses on code quality, process, and  pipelines, there is no minimum performance metric needed to pass. However, make sure to fine tune your models for accuracy, precision and recall to make your project stand out - especially for your portfolio!"
   ]
  },
  {
   "cell_type": "code",
   "execution_count": 11,
   "metadata": {},
   "outputs": [
    {
     "name": "stderr",
     "output_type": "stream",
     "text": [
      "C:\\Users\\Jim.000\\anaconda3\\lib\\site-packages\\sklearn\\metrics\\_classification.py:1272: UndefinedMetricWarning: Precision and F-score are ill-defined and being set to 0.0 in labels with no predicted samples. Use `zero_division` parameter to control this behavior.\n",
      "  _warn_prf(average, modifier, msg_start, len(result))\n"
     ]
    },
    {
     "name": "stdout",
     "output_type": "stream",
     "text": [
      "                         Score\n",
      "Precision (averaged)  0.939062\n",
      "Recall (averaged)     0.948519\n",
      "F_score (averaged)    0.938392\n",
      "                         f_score precision    recall\n",
      "Category                                            \n",
      "related                 0.792924  0.794397  0.808252\n",
      "request                 0.886183  0.890864  0.896556\n",
      "offer                   0.993417  0.991235  0.995608\n",
      "aid_related             0.766733  0.766975  0.766528\n",
      "medical_help            0.901658  0.903834   0.92337\n",
      "medical_products        0.938682  0.945279  0.953652\n",
      "search_and_rescue       0.964702   0.96689  0.974688\n",
      "security                0.972174   0.96335   0.98116\n",
      "military                0.960392  0.959438  0.969718\n",
      "child_alone                    1         1         1\n",
      "water                   0.958929  0.960618  0.963477\n",
      "food                    0.947414  0.947153  0.949723\n",
      "shelter                 0.932049  0.934268  0.940129\n",
      "clothing                0.983026  0.984459  0.987055\n",
      "money                   0.970635  0.973751  0.978964\n",
      "missing_people          0.982574   0.98835  0.988211\n",
      "refugees                0.957572  0.960263  0.968331\n",
      "death                   0.951613  0.956812  0.961743\n",
      "other_aid               0.820597  0.829759  0.869394\n",
      "infrastructure_related  0.902808  0.894981  0.934235\n",
      "transport                0.94077  0.943916  0.955617\n",
      "buildings               0.941069  0.950617  0.955617\n",
      "electricity              0.97148  0.974989  0.979658\n",
      "tools                   0.990821  0.987786  0.993874\n",
      "hospitals                0.98523  0.980447   0.99006\n",
      "shops                   0.994109  0.992156   0.99607\n",
      "aid_centers             0.980107  0.973593  0.986708\n",
      "other_infrastructure    0.933927   0.91341  0.955386\n",
      "weather_related          0.88104    0.8806  0.882802\n",
      "floods                  0.948584  0.951216   0.95423\n",
      "storm                   0.942751  0.941675  0.944868\n",
      "fire                    0.984943  0.983539  0.989367\n",
      "earthquake              0.970225  0.969966  0.970758\n",
      "cold                    0.975238  0.976968  0.980929\n",
      "other_weather           0.926664  0.933646  0.948682\n",
      "direct_report           0.831065   0.83903  0.851248\n"
     ]
    }
   ],
   "source": [
    "y_pred = tuned_model.predict(X_test)\n",
    "\n",
    "print(report_results(Y_test, y_pred))\n",
    "\n",
    "\n",
    "\n",
    "\n",
    "\n"
   ]
  },
  {
   "cell_type": "markdown",
   "metadata": {},
   "source": [
    "### 8. Try improving your model further. Here are a few ideas:\n",
    "* try other machine learning algorithms\n",
    "* add other features besides the TF-IDF"
   ]
  },
  {
   "cell_type": "raw",
   "metadata": {},
   "source": [
    "# testing a k-Nearest Neighbors classifier\n",
    "from sklearn.neighbors import KNeighborsRegressor\n",
    "kn_clf=KNeighborsRegressor()\n",
    "pipeline = Pipeline([\n",
    "    ('vect', CountVectorizer(tokenizer=tokenize)),\n",
    "    ('tfidf', TfidfTransformer()),\n",
    "    ('clf', kn_clf)\n",
    "    ])\n",
    "\n",
    "#train pipeline\n",
    "pipeline.fit(X_train.values, Y_train.values)\n",
    "\n",
    "#pipeline.fit(X_train.as_matrix(), Y_train.as_matrix())\n",
    "y_pred = pipeline.predict(X_test)\n",
    "\n",
    "\n",
    "\n",
    "\n",
    "\n",
    "\n"
   ]
  },
  {
   "cell_type": "code",
   "execution_count": null,
   "metadata": {},
   "outputs": [],
   "source": []
  },
  {
   "cell_type": "markdown",
   "metadata": {},
   "source": [
    "### 9. Export your model as a pickle file"
   ]
  },
  {
   "cell_type": "code",
   "execution_count": 13,
   "metadata": {},
   "outputs": [],
   "source": [
    "pickle.dump(tuned_model,open('models/classifier.pkl','wb'))\n",
    "\n"
   ]
  },
  {
   "cell_type": "markdown",
   "metadata": {},
   "source": [
    "### 10. Use this notebook to complete `train.py`\n",
    "Use the template file attached in the Resources folder to write a script that runs the steps above to create a database and export a model based on a new dataset specified by the user."
   ]
  },
  {
   "cell_type": "code",
   "execution_count": null,
   "metadata": {},
   "outputs": [],
   "source": []
  },
  {
   "cell_type": "code",
   "execution_count": null,
   "metadata": {},
   "outputs": [],
   "source": []
  },
  {
   "cell_type": "code",
   "execution_count": null,
   "metadata": {},
   "outputs": [],
   "source": []
  },
  {
   "cell_type": "code",
   "execution_count": null,
   "metadata": {},
   "outputs": [],
   "source": []
  }
 ],
 "metadata": {
  "kernelspec": {
   "display_name": "Python 3",
   "language": "python",
   "name": "python3"
  },
  "language_info": {
   "codemirror_mode": {
    "name": "ipython",
    "version": 3
   },
   "file_extension": ".py",
   "mimetype": "text/x-python",
   "name": "python",
   "nbconvert_exporter": "python",
   "pygments_lexer": "ipython3",
   "version": "3.7.6"
  }
 },
 "nbformat": 4,
 "nbformat_minor": 2
}
